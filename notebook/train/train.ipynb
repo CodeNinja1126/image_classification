{
 "cells": [
  {
   "cell_type": "code",
   "execution_count": 1,
   "id": "packed-parade",
   "metadata": {},
   "outputs": [],
   "source": [
    "import os\n",
    "import sys\n",
    "\n",
    "pwd = os.path.sep.join(os.getcwd().split(sep=os.path.sep)[:-2])\n",
    "sys.path.append(pwd)\n",
    "\n",
    "import dataset\n",
    "import model\n",
    "import torch\n",
    "import torch.nn as nn\n",
    "import torch.functional as F\n",
    "from torch.utils.data import DataLoader\n",
    "\n",
    "device = torch.device('cuda' if torch.cuda.is_available() else 'cpu')"
   ]
  },
  {
   "cell_type": "markdown",
   "id": "documented-calcium",
   "metadata": {},
   "source": [
    "- 데이터 셋 및 데이터 로더 정의 "
   ]
  },
  {
   "cell_type": "code",
   "execution_count": 7,
   "id": "usual-naples",
   "metadata": {},
   "outputs": [],
   "source": [
    "mask_dataset = dataset.MaskImageDataset(dataset.csv_path, \n",
    "                                        dataset.data_path,\n",
    "                                       dataset.data_transform)\n",
    "\n",
    "data_loader = DataLoader(mask_dataset,\n",
    "                        shuffle=True,\n",
    "                        batch_size=10, \n",
    "                        num_workers=4)"
   ]
  },
  {
   "cell_type": "markdown",
   "id": "parliamentary-classification",
   "metadata": {},
   "source": [
    "- 모델 정의 및 옵티마이저, 손실 함수 정의"
   ]
  },
  {
   "cell_type": "code",
   "execution_count": 8,
   "id": "minus-boutique",
   "metadata": {},
   "outputs": [],
   "source": [
    "model_state_dict = torch.load('test_model.ckpt')\n",
    "\n",
    "test_model = model.classificationModel().to(device)\n",
    "test_model.train()\n",
    "test_model.load_state_dict(model_state_dict)\n",
    "\n",
    "criterion = nn.CrossEntropyLoss()\n",
    "optimizer = torch.optim.Adam(test_model.parameters(), lr=0.0001)"
   ]
  },
  {
   "cell_type": "markdown",
   "id": "coordinated-finance",
   "metadata": {},
   "source": [
    "- 학습"
   ]
  },
  {
   "cell_type": "code",
   "execution_count": 9,
   "id": "digital-circle",
   "metadata": {},
   "outputs": [
    {
     "name": "stdout",
     "output_type": "stream",
     "text": [
      "[1,   100] loss: 0.007\n",
      "[1,   200] loss: 0.004\n",
      "[1,   300] loss: 0.004\n",
      "[1,   400] loss: 0.006\n",
      "[1,   500] loss: 0.005\n",
      "[1,   600] loss: 0.008\n",
      "[1,   700] loss: 0.010\n",
      "[1,   800] loss: 0.008\n",
      "[1,   900] loss: 0.007\n",
      "[1,  1000] loss: 0.007\n",
      "[1,  1100] loss: 0.005\n",
      "[1,  1200] loss: 0.006\n",
      "[1,  1300] loss: 0.006\n",
      "[1,  1400] loss: 0.004\n",
      "[1,  1500] loss: 0.006\n",
      "[1,  1600] loss: 0.005\n",
      "[1,  1700] loss: 0.006\n",
      "[1,  1800] loss: 0.006\n",
      "[2,   100] loss: 0.004\n",
      "[2,   200] loss: 0.005\n",
      "[2,   300] loss: 0.004\n",
      "[2,   400] loss: 0.005\n",
      "[2,   500] loss: 0.006\n",
      "[2,   600] loss: 0.005\n",
      "[2,   700] loss: 0.007\n",
      "[2,   800] loss: 0.007\n",
      "[2,   900] loss: 0.006\n",
      "[2,  1000] loss: 0.006\n",
      "[2,  1100] loss: 0.006\n",
      "[2,  1200] loss: 0.005\n",
      "[2,  1300] loss: 0.006\n",
      "[2,  1400] loss: 0.006\n",
      "[2,  1500] loss: 0.006\n",
      "[2,  1600] loss: 0.006\n",
      "[2,  1700] loss: 0.006\n",
      "[2,  1800] loss: 0.005\n",
      "[3,   100] loss: 0.004\n",
      "[3,   200] loss: 0.004\n",
      "[3,   300] loss: 0.005\n",
      "[3,   400] loss: 0.005\n",
      "[3,   500] loss: 0.006\n",
      "[3,   600] loss: 0.004\n",
      "[3,   700] loss: 0.005\n",
      "[3,   800] loss: 0.005\n",
      "[3,   900] loss: 0.005\n",
      "[3,  1000] loss: 0.004\n",
      "[3,  1100] loss: 0.005\n",
      "[3,  1200] loss: 0.005\n",
      "[3,  1300] loss: 0.004\n",
      "[3,  1400] loss: 0.005\n",
      "[3,  1500] loss: 0.005\n",
      "[3,  1600] loss: 0.006\n",
      "[3,  1700] loss: 0.004\n",
      "[3,  1800] loss: 0.005\n",
      "[4,   100] loss: 0.004\n",
      "[4,   200] loss: 0.006\n",
      "[4,   300] loss: 0.004\n",
      "[4,   400] loss: 0.002\n",
      "[4,   500] loss: 0.003\n",
      "[4,   600] loss: 0.004\n",
      "[4,   700] loss: 0.005\n",
      "[4,   800] loss: 0.005\n",
      "[4,   900] loss: 0.005\n",
      "[4,  1000] loss: 0.004\n",
      "[4,  1100] loss: 0.005\n",
      "[4,  1200] loss: 0.006\n",
      "[4,  1300] loss: 0.006\n",
      "[4,  1400] loss: 0.005\n",
      "[4,  1500] loss: 0.006\n",
      "[4,  1600] loss: 0.005\n",
      "[4,  1700] loss: 0.003\n",
      "[4,  1800] loss: 0.004\n",
      "[5,   100] loss: 0.003\n",
      "[5,   200] loss: 0.002\n",
      "[5,   300] loss: 0.004\n",
      "[5,   400] loss: 0.005\n",
      "[5,   500] loss: 0.005\n",
      "[5,   600] loss: 0.004\n",
      "[5,   700] loss: 0.004\n",
      "[5,   800] loss: 0.004\n",
      "[5,   900] loss: 0.004\n",
      "[5,  1000] loss: 0.003\n",
      "[5,  1100] loss: 0.005\n",
      "[5,  1200] loss: 0.003\n",
      "[5,  1300] loss: 0.005\n",
      "[5,  1400] loss: 0.003\n",
      "[5,  1500] loss: 0.006\n",
      "[5,  1600] loss: 0.005\n",
      "[5,  1700] loss: 0.006\n",
      "[5,  1800] loss: 0.005\n",
      "Finished Training\n"
     ]
    }
   ],
   "source": [
    "for epoch in range():\n",
    "    \n",
    "    running_loss = 0.0\n",
    "    for i, data in enumerate(data_loader, 0):\n",
    "        \n",
    "        inputs, labels = data\n",
    "        \n",
    "        optimizer.zero_grad()\n",
    "        \n",
    "        labels = torch.flatten(torch.argmax(labels, dim=2))\n",
    "\n",
    "        outputs = test_model(inputs.to(device))\n",
    "        loss = criterion(outputs, labels.to(device))\n",
    "        loss.backward()\n",
    "        optimizer.step()\n",
    "        \n",
    "        running_loss += loss.item()\n",
    "        if i % 100 == 99:\n",
    "            print('[%d, %5d] loss: %.3f' %\n",
    "                 (epoch + 1, i + 1, running_loss / 2000))\n",
    "            running_loss = 0.0\n",
    "\n",
    "print('Finished Training')\n",
    "torch.save(test_model.state_dict(), 'test_model.ckpt')"
   ]
  }
 ],
 "metadata": {
  "kernelspec": {
   "display_name": "Python 3",
   "language": "python",
   "name": "python3"
  },
  "language_info": {
   "codemirror_mode": {
    "name": "ipython",
    "version": 3
   },
   "file_extension": ".py",
   "mimetype": "text/x-python",
   "name": "python",
   "nbconvert_exporter": "python",
   "pygments_lexer": "ipython3",
   "version": "3.7.7"
  }
 },
 "nbformat": 4,
 "nbformat_minor": 5
}
