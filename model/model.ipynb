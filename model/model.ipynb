{
 "cells": [
  {
   "cell_type": "code",
   "execution_count": 1,
   "id": "alien-vegetarian",
   "metadata": {},
   "outputs": [],
   "source": [
    "import torch\n",
    "import torchvision\n",
    "from torchvision import models\n",
    "import torch.nn as nn\n",
    "import torch.nn.functional as F\n",
    "\n",
    "device = torch.device('cuda' if torch.cuda.is_available() else 'cpu')"
   ]
  },
  {
   "cell_type": "markdown",
   "id": "missing-notice",
   "metadata": {},
   "source": [
    "- 레즈넷 모델 블록 정의"
   ]
  },
  {
   "cell_type": "code",
   "execution_count": 2,
   "id": "ordered-playlist",
   "metadata": {},
   "outputs": [],
   "source": [
    "class resModule(nn.Module):\n",
    "    def __init__(self, channel):\n",
    "        super(resModule, self).__init__()\n",
    "        \n",
    "        self.relu = nn.ReLU()\n",
    "        \n",
    "        self.conv1 = nn.Conv2d(channel, channel//2, kernel_size=1)\n",
    "        self.bn1 = nn.BatchNorm2d(channel//2)\n",
    "        self.conv2 = nn.Conv2d(channel//2, channel, kernel_size=3, padding=1)\n",
    "        self.bn2 = nn.BatchNorm2d(channel)\n",
    "        self.bn3 = nn.BatchNorm2d(channel)\n",
    "    \n",
    "    def forward(self, x):\n",
    "        origin = x.clone()\n",
    "        \n",
    "        x = self.conv1(x)\n",
    "        x = self.bn1(x)\n",
    "        x = self.relu(x)\n",
    "        x = self.conv2(x)\n",
    "        x = self.bn2(x)\n",
    "        x = self.relu(x)\n",
    "        x = self.bn3(x + origin)\n",
    "    \n",
    "        return x\n",
    "    \n",
    "\n",
    "def resLayer(channel, iter_num):\n",
    "    resList = [resModule(channel) for _ in range(iter_num)]\n",
    "    return nn.Sequential(*resList)\n"
   ]
  },
  {
   "cell_type": "markdown",
   "id": "irish-marking",
   "metadata": {},
   "source": [
    "- 레즈넷 모델 정의"
   ]
  },
  {
   "cell_type": "code",
   "execution_count": 3,
   "id": "satisfied-distance",
   "metadata": {},
   "outputs": [],
   "source": [
    "class backboneModel(nn.Module):\n",
    "    def __init__(self):\n",
    "        super(backboneModel, self).__init__()\n",
    "        \n",
    "        self.relu = nn.ReLU()\n",
    "        \n",
    "        self.conv1_1 = nn.Conv2d(3, 32, kernel_size=3, padding=1)\n",
    "        self.bn1_1 = nn.BatchNorm2d(32)\n",
    "        self.conv1_2 = nn.Conv2d(32, 64, kernel_size=3, stride=2, padding=1)\n",
    "        self.bn1_2 = nn.BatchNorm2d(64)\n",
    "        \n",
    "        self.res1 = resLayer(64, 1)\n",
    "        \n",
    "        self.conv2 = nn.Conv2d(64, 128, kernel_size=3, stride=2, padding=1)\n",
    "        self.bn2 = nn.BatchNorm2d(128)\n",
    "        \n",
    "        self.res2 = resLayer(128, 2)\n",
    "        \n",
    "        self.conv3 = nn.Conv2d(128, 256, kernel_size=3, stride=2, padding=1)\n",
    "        self.bn3 = nn.BatchNorm2d(256)\n",
    "        \n",
    "        self.res3 = resLayer(256, 8)\n",
    "        \n",
    "        self.conv4 = nn.Conv2d(256, 512, kernel_size=3, stride=2, padding=1)\n",
    "        self.bn4 = nn.BatchNorm2d(512)\n",
    "        \n",
    "        self.res4 = resLayer(512, 8)\n",
    "        \n",
    "        self.conv5 = nn.Conv2d(512, 1024, kernel_size=3, stride=2, padding=1)\n",
    "        self.bn5 = nn.BatchNorm2d(1024)\n",
    "        \n",
    "        self.res5 = resLayer(1024, 8)\n",
    "        \n",
    "    def forward(self, x):\n",
    "        x = self.conv1_1(x)\n",
    "        x = self.bn1_1(x)\n",
    "        x = self.relu(x)\n",
    "        x = self.conv1_2(x)\n",
    "        x = self.bn1_2(x)\n",
    "        x = self.relu(x)\n",
    "        \n",
    "        x = self.res1(x)\n",
    "        \n",
    "        x = self.conv2(x)\n",
    "        x = self.bn2(x)\n",
    "        x = self.relu(x)\n",
    "        \n",
    "        x = self.res2(x)\n",
    "        \n",
    "        x = self.conv3(x)\n",
    "        x = self.bn3(x)\n",
    "        x = self.relu(x)\n",
    "        \n",
    "        x = self.res3(x)\n",
    "            \n",
    "        x = self.conv4(x)\n",
    "        x = self.bn4(x)\n",
    "        x = self.relu(x)\n",
    "        \n",
    "        x = self.res4(x)\n",
    "            \n",
    "        x = self.conv5(x)\n",
    "        x = self.bn5(x)\n",
    "        x = self.relu(x)\n",
    "        \n",
    "        x = self.res5(x)\n",
    "        \n",
    "        return x\n",
    "        \n",
    "class classificationModel(nn.Module):\n",
    "    def __init__(self, num_classes = 18):\n",
    "        super(classificationModel, self).__init__()\n",
    "        \n",
    "        self.relu = nn.ReLU()\n",
    "        \n",
    "        self.backbone = backboneModel()\n",
    "        self.gap = nn.AdaptiveAvgPool2d(1)\n",
    "        self.fc_1 = nn.Linear(1024, 512)\n",
    "        self.fc_2 = nn.Linear(512, num_classes)\n",
    "        \n",
    "    def forward(self, x):\n",
    "        x = self.backbone(x)\n",
    "        x = self.gap(x)\n",
    "        x = torch.flatten(x, 1)\n",
    "        x = self.fc_1(x)\n",
    "        x = self.relu(x)\n",
    "        x = self.fc_2(x)\n",
    "        \n",
    "        return x"
   ]
  },
  {
   "cell_type": "code",
   "execution_count": 4,
   "id": "buried-hypothesis",
   "metadata": {},
   "outputs": [
    {
     "data": {
      "text/plain": [
       "torch.Size([1, 18])"
      ]
     },
     "execution_count": 4,
     "metadata": {},
     "output_type": "execute_result"
    }
   ],
   "source": [
    "model = classificationModel().to(device)\n",
    "image = torch.randn((1,3,256,256), dtype=torch.float).to(device)\n",
    "image.requires_grad = True\n",
    "model(image).shape"
   ]
  },
  {
   "cell_type": "code",
   "execution_count": null,
   "id": "indie-hamburg",
   "metadata": {},
   "outputs": [],
   "source": []
  }
 ],
 "metadata": {
  "kernelspec": {
   "display_name": "Python 3",
   "language": "python",
   "name": "python3"
  },
  "language_info": {
   "codemirror_mode": {
    "name": "ipython",
    "version": 3
   },
   "file_extension": ".py",
   "mimetype": "text/x-python",
   "name": "python",
   "nbconvert_exporter": "python",
   "pygments_lexer": "ipython3",
   "version": "3.7.7"
  }
 },
 "nbformat": 4,
 "nbformat_minor": 5
}
