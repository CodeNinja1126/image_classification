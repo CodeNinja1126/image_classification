{
 "cells": [
  {
   "cell_type": "code",
   "execution_count": 1,
   "id": "swedish-editing",
   "metadata": {},
   "outputs": [],
   "source": [
    "import os\n",
    "import sys\n",
    "\n",
    "pwd = os.path.sep.join(os.getcwd().split(sep=os.path.sep)[:-1])\n",
    "sys.path.append(pwd)\n",
    "\n",
    "import dataset.dataset as dataset\n",
    "import model.model as model\n",
    "import torch\n",
    "import torch.nn as nn\n",
    "import torch.functional as F\n",
    "from torch.utils.data import DataLoader\n",
    "import tqdm\n",
    "\n",
    "device = torch.device('cuda' if torch.cuda.is_available() else 'cpu')"
   ]
  },
  {
   "cell_type": "markdown",
   "id": "protected-comfort",
   "metadata": {},
   "source": [
    "- 데이터 셋 및 데이터 로더 정의 "
   ]
  },
  {
   "cell_type": "code",
   "execution_count": 2,
   "id": "billion-yahoo",
   "metadata": {},
   "outputs": [],
   "source": [
    "mask_dataset = dataset.MaskImageDataset(dataset.csv_path, \n",
    "                                        dataset.data_path,\n",
    "                                       dataset.data_transform)\n",
    "\n",
    "data_loader = DataLoader(mask_dataset,\n",
    "                        shuffle=True,\n",
    "                        batch_size=10, \n",
    "                        num_workers=4)"
   ]
  },
  {
   "cell_type": "markdown",
   "id": "saving-reset",
   "metadata": {},
   "source": [
    "- 모델 정의 및 옵티마이저, 손실 함수 정의"
   ]
  },
  {
   "cell_type": "code",
   "execution_count": 3,
   "id": "going-burton",
   "metadata": {},
   "outputs": [],
   "source": [
    "test_model = model.classificationModel().to(device)\n",
    "test_model.train()\n",
    "\n",
    "criterion = nn.CrossEntropyLoss()\n",
    "optimizer = torch.optim.Adam(test_model.parameters(), lr=0.0001)"
   ]
  },
  {
   "cell_type": "markdown",
   "id": "special-bacteria",
   "metadata": {},
   "source": [
    "- 학습"
   ]
  },
  {
   "cell_type": "code",
   "execution_count": 7,
   "id": "stuck-shore",
   "metadata": {},
   "outputs": [
    {
     "name": "stdout",
     "output_type": "stream",
     "text": [
      "[1,   100] loss: 0.025\n",
      "[1,   200] loss: 0.024\n",
      "[1,   300] loss: 0.023\n",
      "[1,   400] loss: 0.025\n",
      "[1,   500] loss: 0.023\n",
      "[1,   600] loss: 0.026\n",
      "[1,   700] loss: 0.028\n",
      "[1,   800] loss: 0.025\n",
      "[1,   900] loss: 0.028\n",
      "[1,  1000] loss: 0.022\n",
      "[1,  1100] loss: 0.022\n",
      "[1,  1200] loss: 0.027\n",
      "[1,  1300] loss: 0.021\n",
      "[1,  1400] loss: 0.024\n",
      "[1,  1500] loss: 0.022\n",
      "[1,  1600] loss: 0.023\n",
      "[1,  1700] loss: 0.024\n",
      "[1,  1800] loss: 0.024\n",
      "Finished Training\n"
     ]
    }
   ],
   "source": [
    "for epoch in range(5):\n",
    "    \n",
    "    running_loss = 0.0\n",
    "    for i, data in enumerate(tqdm(data_loader), 0):\n",
    "        \n",
    "        inputs, labels = data\n",
    "        \n",
    "        optimizer.zero_grad()\n",
    "        \n",
    "        labels = torch.flatten(torch.argmax(labels, dim=2))\n",
    "\n",
    "        outputs = test_model(inputs.to(device))\n",
    "        loss = criterion(outputs, labels.to(device))\n",
    "        loss.backward()\n",
    "        optimizer.step()\n",
    "        \n",
    "        running_loss += loss.item()\n",
    "        if i % 100 == 99:\n",
    "            print('[%d, %5d] loss: %.3f' %\n",
    "                 (epoch + 1, i + 1, running_loss / 2000))\n",
    "            running_loss = 0.0\n",
    "\n",
    "print('Finished Training')"
   ]
  },
  {
   "cell_type": "code",
   "execution_count": 8,
   "id": "better-mistress",
   "metadata": {},
   "outputs": [],
   "source": [
    "torch.save(test_model.state_dict(), 'test_model.ckpt')"
   ]
  }
 ],
 "metadata": {
  "kernelspec": {
   "display_name": "Python 3",
   "language": "python",
   "name": "python3"
  },
  "language_info": {
   "codemirror_mode": {
    "name": "ipython",
    "version": 3
   },
   "file_extension": ".py",
   "mimetype": "text/x-python",
   "name": "python",
   "nbconvert_exporter": "python",
   "pygments_lexer": "ipython3",
   "version": "3.7.7"
  }
 },
 "nbformat": 4,
 "nbformat_minor": 5
}
